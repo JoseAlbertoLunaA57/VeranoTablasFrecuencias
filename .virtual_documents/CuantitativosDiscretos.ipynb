


# Importar bibliotecas necesarias
import numpy as np
import pandas as pd
import matplotlib.pyplot as plt

# Generar datos aleatorios
np.random.seed(42)  # Para reproducibilidad
data = np.random.randint(1, 21, size=500)  # Datos de 1 a 20

# Crear tabla de frecuencia
frecuencia = pd.Series(data).value_counts().sort_index()
tabla_frecuencia = pd.DataFrame({
    'Valor': frecuencia.index,
    'Frecuencia Absoluta': frecuencia.values,
    'Frecuencia Relativa': frecuencia.values / len(data),
    'Frecuencia Acumulada': frecuencia.cumsum()
})

# Calcular totales
totales = {
    'Valor': 'Total',
    'Frecuencia Absoluta': tabla_frecuencia['Frecuencia Absoluta'].sum(),
    'Frecuencia Relativa': (tabla_frecuencia['Frecuencia Relativa'].sum() * 100),  # Convertir a porcentaje
    'Frecuencia Acumulada': tabla_frecuencia['Frecuencia Acumulada'].iloc[-1]
}

# Crear un DataFrame para los totales
totales_df = pd.DataFrame([totales])

# Concatenar la tabla de frecuencia con los totales
tabla_frecuencia = pd.concat([tabla_frecuencia, totales_df], ignore_index=True)

# Mostrar tabla de frecuencia con totales
print(tabla_frecuencia)

# Crear figura y ejes
fig, axs = plt.subplots(3, 2, figsize=(14, 12))

# Graficar frecuencia absoluta usando un histograma
axs[0, 0].hist(data, bins=20, color='skyblue', edgecolor='black')
axs[0, 0].set_title('Histograma de Frecuencia Absoluta')
axs[0, 0].set_xlabel('Valor')
axs[0, 0].set_ylabel('Frecuencia Absoluta')

# Graficar frecuencia absoluta usando un diagrama de barras horizontales
axs[0, 1].barh(tabla_frecuencia['Valor'].astype(str), tabla_frecuencia['Frecuencia Absoluta'], color='lightgreen')
axs[0, 1].set_title('Diagrama de Barras Horizontales')
axs[0, 1].set_xlabel('Frecuencia Absoluta')
axs[0, 1].set_ylabel('Valor')

# Graficar frecuencia relativa usando un polígono de frecuencia
axs[1, 0].plot(tabla_frecuencia['Valor'][:-1], tabla_frecuencia['Frecuencia Relativa'][:-1], marker='o', color='orange')
axs[1, 0].set_title('Polígono de Frecuencia Relativa')
axs[1, 0].set_xlabel('Valor')
axs[1, 0].set_ylabel('Frecuencia Relativa')

# Graficar frecuencia relativa usando un diagrama de pastel
axs[1, 1].pie(tabla_frecuencia['Frecuencia Relativa'][:-1], labels=tabla_frecuencia['Valor'][:-1].astype(str), autopct='%1.1f%%', startangle=140)
axs[1, 1].set_title('Diagrama de Pastel de Frecuencia Relativa')

# Graficar frecuencia acumulada usando la ojiva
axs[2, 0].plot(tabla_frecuencia['Valor'][:-1], tabla_frecuencia['Frecuencia Acumulada'][:-1], marker='o', color='purple')
axs[2, 0].set_title('Ojiva de Frecuencia Acumulada')
axs[2, 0].set_xlabel('Valor')
axs[2, 0].set_ylabel('Frecuencia Acumulada')
axs[2, 0].grid()

# Eliminar el último subplot vacío
fig.delaxes(axs[2, 1])

# Ajustar el layout
plt.tight_layout()
plt.show()


# Importar las librerías necesarias
import numpy as np
import pandas as pd
import matplotlib.pyplot as plt

# 1. Generar datos de ventas
np.random.seed(42)  # Para reproducibilidad
ventas_base = np.array([50, 75, 100, 125, 150])  # Valores de ventas

# Generar ventas con diferentes cantidades de repeticiones
ventas = np.concatenate([
    np.random.choice(ventas_base, size=np.random.randint(70, 120), replace=True),  # Valores entre 70 y 120
    np.random.choice(ventas_base, size=np.random.randint(50, 100), replace=True),   # Valores entre 50 y 100
    np.random.choice(ventas_base, size=np.random.randint(30, 80), replace=True),    # Valores entre 30 y 80
    np.random.choice(ventas_base, size=np.random.randint(40, 90), replace=True),    # Valores entre 40 y 90
    np.random.choice(ventas_base, size=np.random.randint(20, 60), replace=True)     # Valores entre 20 y 60
])

# Mezclar los datos
np.random.shuffle(ventas)

# Crear un DataFrame con las ventas
df = pd.DataFrame({'Ventas': ventas})

# 2. Crear tabla de frecuencias
frecuencia = df['Ventas'].value_counts().sort_index()
frecuencia_relativa = frecuencia / frecuencia.sum()
frecuencia_acumulada = frecuencia.cumsum()

# Crear DataFrame de frecuencias
tabla_frecuencias = pd.DataFrame({
    'Frecuencia Absoluta': frecuencia,
    'Frecuencia Relativa': frecuencia_relativa,
    'Frecuencia Acumulada': frecuencia_acumulada
})

# 3. Mostrar la tabla de frecuencias
print("### Tabla de Frecuencias ###")
print(tabla_frecuencias)

# 4. Graficar la frecuencia absoluta

# Histograma
plt.figure(figsize=(10, 6))
plt.hist(df['Ventas'], bins=5, color='lightblue', edgecolor='black')
plt.title('Histograma de Ventas')
plt.xlabel('Ventas')
plt.ylabel('Frecuencia Absoluta')
plt.xticks(ticks=[50, 75, 100, 125, 150])
plt.grid(axis='y')
plt.show()

# Diagrama de barras horizontal
plt.figure(figsize=(10, 6))
frecuencia.plot(kind='barh', color='lightgreen')
plt.title('Diagrama de Barras Horizontal de Frecuencia Absoluta')
plt.xlabel('Frecuencia Absoluta')
plt.ylabel('Ventas')
plt.grid(axis='x')
plt.show()

# 5. Graficar la frecuencia relativa

# Polígono de frecuencia
plt.figure(figsize=(10, 6))
plt.plot(frecuencia.index, frecuencia_relativa, marker='o', color='purple')
plt.title('Polígono de Frecuencia Relativa')
plt.xlabel('Ventas')
plt.ylabel('Frecuencia Relativa')
plt.xticks(ticks=[50, 75, 100, 125, 150])
plt.grid()
plt.show()

# Diagrama de pastel
plt.figure(figsize=(10, 6))
plt.pie(frecuencia_relativa, labels=frecuencia.index, autopct='%1.1f%%', startangle=140)
plt.title('Diagrama de Pastel de Frecuencia Relativa')
plt.axis('equal')  # Para que el pastel sea circular
plt.show()

# 6. Graficar la frecuencia acumulada

# Ojiva
plt.figure(figsize=(10, 6))
plt.plot(frecuencia.index, frecuencia_acumulada, marker='o', color='orange')
plt.title('Ojiva de Frecuencia Acumulada')
plt.xlabel('Ventas')
plt.ylabel('Frecuencia Acumulada')
plt.xticks(ticks=[50, 75, 100, 125, 150])
plt.grid()
plt.show()



