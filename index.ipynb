{
 "cells": [
  {
   "cell_type": "code",
   "execution_count": 9,
   "id": "4d6b5e15",
   "metadata": {},
   "outputs": [
    {
     "name": "stdout",
     "output_type": "stream",
     "text": [
      "## Índice\n",
      "\n",
      "Gráficos de Tablas de Frecuencia realizados en notebooks.\n",
      "\n",
      "# Apartado de Vínculos\n",
      "\n",
      "- [Datos cualitativos](Tabla-caracteres.ipynb)\n",
      "- [Datos cuantitativos continuos](cuantitativos.ipynb)\n",
      "- [Datos cuantitativos discretos](CuantitativosDiscretos.ipynb)\n"
     ]
    }
   ],
   "source": [
    "# Índice de archivos\n",
    "\n",
    "print(\"## Índice\")\n",
    "print(\"\\nGráficos de Tablas de Frecuencia realizados en notebooks.\\n\")\n",
    "print(\"# Apartado de Vínculos\\n\")\n",
    "print(\"- [Datos cualitativos](Tabla-caracteres.ipynb)\")\n",
    "print(\"- [Datos cuantitativos continuos](cuantitativos.ipynb)\")\n",
    "print(\"- [Datos cuantitativos discretos](CuantitativosDiscretos.ipynb)\")"
   ]
  }
 ],
 "metadata": {
  "kernelspec": {
   "display_name": "Python 3",
   "language": "python",
   "name": "python3"
  },
  "language_info": {
   "codemirror_mode": {
    "name": "ipython",
    "version": 3
   },
   "file_extension": ".py",
   "mimetype": "text/x-python",
   "name": "python",
   "nbconvert_exporter": "python",
   "pygments_lexer": "ipython3",
   "version": "3.13.0"
  }
 },
 "nbformat": 4,
 "nbformat_minor": 5
}
