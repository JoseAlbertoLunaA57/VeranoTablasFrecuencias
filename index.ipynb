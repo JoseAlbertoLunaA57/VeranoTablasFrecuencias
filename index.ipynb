{
 "cells": [
  {
   "cell_type": "markdown",
   "id": "02e9f469",
   "metadata": {},
   "source": [
    "## Índice\n",
    "\n",
    "Gráficos de Tablas de Frecuencia realizados en notebooks.\n",
    "\n",
    "# Apartado de Vínculos\n",
    "\n",
    "- [Datos cualitativos](Tabla-caracteres.ipynb)\n",
    "- [Datos cuantitativos continuos](cuantitativos.ipynb)\n",
    "- [Datos cuantitativos discretos](CuantitativosDiscretos.ipynb)"
   ]
  }
 ],
 "metadata": {
  "kernelspec": {
   "display_name": "Python 3",
   "language": "python",
   "name": "python3"
  },
  "language_info": {
   "codemirror_mode": {
    "name": "ipython",
    "version": 3
   },
   "file_extension": ".py",
   "mimetype": "text/x-python",
   "name": "python",
   "nbconvert_exporter": "python",
   "pygments_lexer": "ipython3",
   "version": "3.13.0"
  }
 },
 "nbformat": 4,
 "nbformat_minor": 5
}
