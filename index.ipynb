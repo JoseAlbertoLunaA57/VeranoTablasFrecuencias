{
 "cells": [
  {
   "cell_type": "code",
   "execution_count": 2,
   "id": "4d6b5e15",
   "metadata": {},
   "outputs": [
    {
     "data": {
      "text/plain": [
       "{'cells': [{'cell_type': 'markdown',\n",
       "   'metadata': {},\n",
       "   'source': ['## Índice\\n',\n",
       "    '\\n',\n",
       "    'Gráficos de Tablas de Frecuencia realizados en notebooks.\\n',\n",
       "    '\\n',\n",
       "    '# Apartado de Vínculos\\n',\n",
       "    '\\n',\n",
       "    '- [datos cualitativos](Tabla-caracteres.ipynb)-[Datos cuantitativos continuos](cuantitativos.ipynb)-[Datos cuantitativos discretos](CuantitativosDiscretos.ipynb)']}],\n",
       " 'metadata': {'language_info': {'name': 'python'}},\n",
       " 'nbformat': 4,\n",
       " 'nbformat_minor': 2}"
      ]
     },
     "execution_count": 2,
     "metadata": {},
     "output_type": "execute_result"
    }
   ],
   "source": [
    "{\n",
    " \"cells\": [\n",
    "  {\n",
    "   \"cell_type\": \"markdown\",\n",
    "   \"metadata\": {},\n",
    "   \"source\": [\n",
    "    \"## Índice\\n\",\n",
    "    \"\\n\",\n",
    "    \"Gráficos de Tablas de Frecuencia realizados en notebooks.\\n\",\n",
    "    \"\\n\",\n",
    "    \"# Apartado de Vínculos\\n\",\n",
    "    \"\\n\",\n",
    "    \"- [datos cualitativos](Tabla-caracteres.ipynb)\"\n",
    "    \"-[Datos cuantitativos continuos](cuantitativos.ipynb)\"\n",
    "    \"-[Datos cuantitativos discretos](CuantitativosDiscretos.ipynb)\"\n",
    "   ]\n",
    "  }\n",
    " ],\n",
    " \"metadata\": {\n",
    "  \"language_info\": {\n",
    "   \"name\": \"python\"\n",
    "  }\n",
    " },\n",
    " \"nbformat\": 4,\n",
    " \"nbformat_minor\": 2\n",
    "}\n"
   ]
  }
 ],
 "metadata": {
  "kernelspec": {
   "display_name": "Python 3",
   "language": "python",
   "name": "python3"
  },
  "language_info": {
   "codemirror_mode": {
    "name": "ipython",
    "version": 3
   },
   "file_extension": ".py",
   "mimetype": "text/x-python",
   "name": "python",
   "nbconvert_exporter": "python",
   "pygments_lexer": "ipython3",
   "version": "3.13.0"
  }
 },
 "nbformat": 4,
 "nbformat_minor": 5
}
